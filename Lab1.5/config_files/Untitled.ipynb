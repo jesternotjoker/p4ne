{
 "cells": [
  {
   "cell_type": "code",
   "execution_count": 26,
   "id": "be1028c3",
   "metadata": {},
   "outputs": [
    {
     "name": "stdout",
     "output_type": "stream",
     "text": [
      "  IP address: 10.12.226.48\n",
      "\n",
      "  IP address: 10.12.226.48\n",
      "\n"
     ]
    }
   ],
   "source": [
    "f = open('bee-catme3400_10.12.226.50.txt', 'r', encoding='utf-8')\n",
    "a = f.readlines()\n",
    "for i in a:\n",
    "    if 'IP address' in i:\n",
    "        print(i)\n",
    "f.close()"
   ]
  },
  {
   "cell_type": "code",
   "execution_count": 27,
   "id": "914cdae9",
   "metadata": {},
   "outputs": [
    {
     "name": "stdout",
     "output_type": "stream",
     "text": [
      "  IP address: 10.12.226.48\n",
      "\n",
      "  IP address: 10.12.226.48\n",
      "\n"
     ]
    }
   ],
   "source": [
    "with open('bee-catme3400_10.12.226.50.txt', 'r') as f:\n",
    "    a = f.readlines()\n",
    "    for i in a:\n",
    "        if 'IP address' in i:\n",
    "            print(i)"
   ]
  },
  {
   "cell_type": "code",
   "execution_count": 28,
   "id": "5ce7ccba",
   "metadata": {},
   "outputs": [],
   "source": [
    "import glob"
   ]
  },
  {
   "cell_type": "code",
   "execution_count": 29,
   "id": "5cc63939",
   "metadata": {},
   "outputs": [
    {
     "data": {
      "text/plain": [
       "['bee-catme3400_10.12.226.50.txt',\n",
       " 'cam-dsw1_10.12.232.198.txt',\n",
       " 'cam-koks-nord-asw1_10.12.231.239.txt',\n",
       " 'cam-koks-south-asw1_10.12.231.240.txt',\n",
       " 'cod-asw1_10.12.225.52.txt',\n",
       " 'cod-asw2_10.12.225.39.txt',\n",
       " 'cod-crsw1_10.12.232.200.txt',\n",
       " 'cod-old-asw1_10.12.233.114.txt',\n",
       " 'cod-wan-gw1.txt',\n",
       " 'cod-wan-gw2.txt',\n",
       " 'gidep-crsw1_10.12.232.192.txt',\n",
       " 'itc-level1-2-asw1_10.12.226.114.txt',\n",
       " 'k17-sat3-cat3560c_10.12.234.222.txt',\n",
       " 'kramz-ok-dsw1_10.12.232.206.txt',\n",
       " 'lo3-dsw1_10.12.236.173.txt',\n",
       " 'master17-cat3560c_10.12.234.237.txt',\n",
       " 'nzu-asw1_10.12.228.180.txt',\n",
       " 'ob45-cat3750x_10.12.234.239.txt',\n",
       " 'Parking-cat3560c_10.12.233.54.txt',\n",
       " 'parking1-cat3560c_10.12.231.170.txt',\n",
       " 'rcu-dsw1_10.12.228.248.txt',\n",
       " 'servc-asw1_10.12.226.177.txt',\n",
       " 'zu-dsw1_10.12.224.180.txt',\n",
       " 'zu-dsw1_10.12.232.199.txt']"
      ]
     },
     "execution_count": 29,
     "metadata": {},
     "output_type": "execute_result"
    }
   ],
   "source": [
    "glob.glob('*.txt')"
   ]
  },
  {
   "cell_type": "code",
   "execution_count": 35,
   "id": "262d11a9",
   "metadata": {},
   "outputs": [
    {
     "name": "stdout",
     "output_type": "stream",
     "text": [
      "IP address: 10.12.237.46\n",
      "IP address: 172.27.71.50\n",
      "IP address: 10.12.229.169\n",
      "IP address: 10.12.231.241\n",
      "IP address: 10.12.228.248\n",
      "IP address: 10.12.234.221\n",
      "IP address: 10.12.233.22\n",
      "IP address: 10.12.222.25\n",
      "IP address: 172.16.65.2\n",
      "IP address: 10.12.225.242\n",
      "IP address: 10.12.237.36\n",
      "IP address: 10.12.233.18\n",
      "IP address: 10.12.237.45\n",
      "IP address: 10.12.237.37\n",
      "IP address: 10.12.237.35\n",
      "IP address: 10.12.138.193\n",
      "IP address: 10.12.142.124\n",
      "IP address: 10.12.228.180\n",
      "IP address: 10.12.237.7\n",
      "IP address: 10.12.236.162\n",
      "IP address: 10.12.228.189\n",
      "IP address: 10.12.225.247\n",
      "IP address: 10.12.96.20\n",
      "IP address: 10.12.236.159\n",
      "IP address: 10.12.142.125\n",
      "IP address: 10.12.148.44\n",
      "IP address: 10.12.234.114\n",
      "IP address: 10.12.237.9\n",
      "IP address: 10.12.226.169\n",
      "IP address: 10.12.237.22\n",
      "IP address: 10.12.224.96\n",
      "IP address: 10.12.236.233\n",
      "IP address: 10.12.224.97\n",
      "IP address: 10.12.224.180\n",
      "IP address: 172.16.65.1\n",
      "IP address: 10.12.231.163\n",
      "IP address: 10.12.234.239\n",
      "IP address: 10.12.236.173\n",
      "IP address: 10.12.148.22\n",
      "IP address: 10.12.228.237\n",
      "IP address: 10.12.233.25\n",
      "IP address: 10.12.222.49\n",
      "IP address: 10.12.233.26\n",
      "IP address: 10.12.234.234\n",
      "IP address: 10.12.17.179\n",
      "IP address: 10.12.234.236\n",
      "IP address: 10.12.224.241\n",
      "IP address: 10.12.68.57\n",
      "IP address: 10.12.227.116\n",
      "IP address: 10.12.144.254\n",
      "IP address: 10.12.237.6\n",
      "IP address: 10.12.222.57\n",
      "IP address: 10.12.128.9\n",
      "IP address: 10.12.222.62\n",
      "IP address: 91.216.121.219\n",
      "IP address: 10.12.96.114\n",
      "IP address: 10.12.234.238\n",
      "IP address: 10.12.227.180\n",
      "IP address: 10.12.233.21\n",
      "IP address: 10.12.225.243\n",
      "IP address: 10.12.228.188\n",
      "IP address: 10.12.96.121\n",
      "IP address: 10.12.226.158\n",
      "IP address: 10.12.226.160\n",
      "IP address: 10.12.225.245\n",
      "IP address: 10.12.233.29\n",
      "IP address: 10.12.148.84\n",
      "IP address: 10.12.234.227\n",
      "IP address: 10.12.227.243\n",
      "IP address: 10.12.236.166\n",
      "IP address: 10.12.225.248\n",
      "IP address: 10.12.76.3\n",
      "IP address: 10.12.222.54\n",
      "IP address: 91.216.121.241\n",
      "IP address: 91.216.121.195\n",
      "IP address: 10.12.237.8\n",
      "IP address: 10.12.234.222\n",
      "IP address: 10.12.114.37\n",
      "IP address: 10.12.225.246\n",
      "IP address: 10.12.225.39\n",
      "IP address: 10.12.238.254\n",
      "IP address: 10.12.237.34\n",
      "IP address: 10.12.225.52\n",
      "IP address: 10.12.233.30\n",
      "IP address: 10.12.231.240\n",
      "IP address: 10.12.225.51\n",
      "IP address: 10.12.128.1\n",
      "IP address: 10.12.19.47\n",
      "IP address: 10.12.96.100\n",
      "IP address: 10.255.2.16\n",
      "IP address: 10.12.234.229\n",
      "IP address: 10.12.226.48\n",
      "IP address: 10.12.236.160\n",
      "IP address: 10.12.234.237\n",
      "IP address: 10.12.96.41\n",
      "IP address: 10.12.236.161\n",
      "IP address: 10.12.237.21\n",
      "IP address: 10.12.168.134\n",
      "IP address: 10.12.234.233\n",
      "IP address: 10.12.102.23\n",
      "IP address: 10.12.168.133\n",
      "IP address: 10.12.234.223\n",
      "IP address: 10.12.233.17\n",
      "IP address: 10.12.229.172\n",
      "IP address: 10.12.234.245\n",
      "IP address: 10.12.231.239\n",
      "IP address: 10.12.226.49\n",
      "IP address: 10.12.228.246\n",
      "IP address: 10.12.226.168\n",
      "IP address: 10.12.225.244\n",
      "IP address: 10.12.19.46\n"
     ]
    }
   ],
   "source": [
    "from glob import glob\n",
    "files = glob('*.txt')\n",
    "list_ip = []\n",
    "for data in files:\n",
    "    with open(data, 'r') as file_ip:\n",
    "        ip_line = file_ip.readlines()\n",
    "        for ip in ip_line:\n",
    "            if 'IP address' in ip:\n",
    "                list_ip.append(ip.strip())\n",
    "\n",
    "\n",
    "list_ip = list(set(list_ip))\n",
    "for ip in list_ip:\n",
    "    print(ip)"
   ]
  },
  {
   "cell_type": "code",
   "execution_count": null,
   "id": "245dff2f",
   "metadata": {},
   "outputs": [],
   "source": []
  }
 ],
 "metadata": {
  "kernelspec": {
   "display_name": "Python 3 (ipykernel)",
   "language": "python",
   "name": "python3"
  },
  "language_info": {
   "codemirror_mode": {
    "name": "ipython",
    "version": 3
   },
   "file_extension": ".py",
   "mimetype": "text/x-python",
   "name": "python",
   "nbconvert_exporter": "python",
   "pygments_lexer": "ipython3",
   "version": "3.10.2"
  }
 },
 "nbformat": 4,
 "nbformat_minor": 5
}
